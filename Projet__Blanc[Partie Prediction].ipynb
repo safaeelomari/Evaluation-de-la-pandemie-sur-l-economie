{
 "cells": [
  {
   "cell_type": "code",
   "execution_count": 1,
   "id": "38efa236",
   "metadata": {},
   "outputs": [
    {
     "name": "stdout",
     "output_type": "stream",
     "text": [
      "Requirement already satisfied: missingno in c:\\users\\hp\\anaconda3\\lib\\site-packages (0.5.0)\n",
      "Requirement already satisfied: seaborn in c:\\users\\hp\\anaconda3\\lib\\site-packages (from missingno) (0.11.1)\n",
      "Requirement already satisfied: matplotlib in c:\\users\\hp\\anaconda3\\lib\\site-packages (from missingno) (3.3.4)\n",
      "Requirement already satisfied: scipy in c:\\users\\hp\\anaconda3\\lib\\site-packages (from missingno) (1.6.2)\n",
      "Requirement already satisfied: numpy in c:\\users\\hp\\anaconda3\\lib\\site-packages (from missingno) (1.22.0)\n",
      "Requirement already satisfied: python-dateutil>=2.1 in c:\\users\\hp\\anaconda3\\lib\\site-packages (from matplotlib->missingno) (2.8.1)\n",
      "Requirement already satisfied: kiwisolver>=1.0.1 in c:\\users\\hp\\anaconda3\\lib\\site-packages (from matplotlib->missingno) (1.3.1)\n",
      "Requirement already satisfied: pyparsing!=2.0.4,!=2.1.2,!=2.1.6,>=2.0.3 in c:\\users\\hp\\anaconda3\\lib\\site-packages (from matplotlib->missingno) (2.4.7)\n",
      "Requirement already satisfied: cycler>=0.10 in c:\\users\\hp\\anaconda3\\lib\\site-packages (from matplotlib->missingno) (0.10.0)\n",
      "Requirement already satisfied: pillow>=6.2.0 in c:\\users\\hp\\anaconda3\\lib\\site-packages (from matplotlib->missingno) (8.2.0)\n",
      "Requirement already satisfied: six in c:\\users\\hp\\anaconda3\\lib\\site-packages (from cycler>=0.10->matplotlib->missingno) (1.15.0)\n",
      "Requirement already satisfied: pandas>=0.23 in c:\\users\\hp\\anaconda3\\lib\\site-packages (from seaborn->missingno) (1.2.4)\n",
      "Requirement already satisfied: pytz>=2017.3 in c:\\users\\hp\\anaconda3\\lib\\site-packages (from pandas>=0.23->seaborn->missingno) (2021.1)\n",
      "Note: you may need to restart the kernel to use updated packages.\n"
     ]
    }
   ],
   "source": [
    "pip install missingno\n"
   ]
  },
  {
   "cell_type": "code",
   "execution_count": 2,
   "id": "d02d614f",
   "metadata": {},
   "outputs": [],
   "source": [
    "import matplotlib.pyplot as plt\n",
    "import numpy \n",
    "import pandas as pd\n",
    "import missingno as msno\n",
    "import pandas as pd\n",
    "\n",
    "import plotly.graph_objects as go\n",
    "import plotly.express as px\n",
    "\n",
    "from dash import dcc\n",
    "from dash import html\n",
    "from jupyter_dash import JupyterDash"
   ]
  },
  {
   "cell_type": "markdown",
   "id": "de6ea50b",
   "metadata": {},
   "source": [
    "# #Data1"
   ]
  },
  {
   "cell_type": "code",
   "execution_count": 3,
   "id": "3e9b95bc",
   "metadata": {},
   "outputs": [],
   "source": [
    "interesting_cols1=['iso_code','location','date','total_cases','stringency_index','population','gdp_per_capita','human_development_index']\n",
    "\n",
    "df=pd.read_excel('data.xlsx', usecols=interesting_cols1)"
   ]
  },
  {
   "cell_type": "code",
   "execution_count": 4,
   "id": "d5228d9d",
   "metadata": {},
   "outputs": [
    {
     "data": {
      "text/plain": [
       "0        2019-12-31\n",
       "1        2020-01-01\n",
       "2        2020-01-02\n",
       "3        2020-01-03\n",
       "4        2020-01-04\n",
       "            ...    \n",
       "50413    2020-10-15\n",
       "50414    2020-10-16\n",
       "50415    2020-10-17\n",
       "50416    2020-10-18\n",
       "50417    2020-10-19\n",
       "Name: date, Length: 50418, dtype: object"
      ]
     },
     "execution_count": 4,
     "metadata": {},
     "output_type": "execute_result"
    }
   ],
   "source": [
    "df['date']"
   ]
  },
  {
   "cell_type": "code",
   "execution_count": 5,
   "id": "9b111d3a",
   "metadata": {},
   "outputs": [
    {
     "data": {
      "text/html": [
       "<div>\n",
       "<style scoped>\n",
       "    .dataframe tbody tr th:only-of-type {\n",
       "        vertical-align: middle;\n",
       "    }\n",
       "\n",
       "    .dataframe tbody tr th {\n",
       "        vertical-align: top;\n",
       "    }\n",
       "\n",
       "    .dataframe thead th {\n",
       "        text-align: right;\n",
       "    }\n",
       "</style>\n",
       "<table border=\"1\" class=\"dataframe\">\n",
       "  <thead>\n",
       "    <tr style=\"text-align: right;\">\n",
       "      <th></th>\n",
       "      <th>total_cases</th>\n",
       "      <th>stringency_index</th>\n",
       "      <th>population</th>\n",
       "      <th>gdp_per_capita</th>\n",
       "      <th>human_development_index</th>\n",
       "    </tr>\n",
       "    <tr>\n",
       "      <th>iso_code</th>\n",
       "      <th></th>\n",
       "      <th></th>\n",
       "      <th></th>\n",
       "      <th></th>\n",
       "      <th></th>\n",
       "    </tr>\n",
       "  </thead>\n",
       "  <tbody>\n",
       "    <tr>\n",
       "      <th>ABW</th>\n",
       "      <td>1466.396722</td>\n",
       "      <td>19.729263</td>\n",
       "      <td>0.0</td>\n",
       "      <td>0.0</td>\n",
       "      <td>NaN</td>\n",
       "    </tr>\n",
       "    <tr>\n",
       "      <th>AFG</th>\n",
       "      <td>17246.787050</td>\n",
       "      <td>33.418461</td>\n",
       "      <td>0.0</td>\n",
       "      <td>0.0</td>\n",
       "      <td>0.0</td>\n",
       "    </tr>\n",
       "    <tr>\n",
       "      <th>AGO</th>\n",
       "      <td>1935.163957</td>\n",
       "      <td>10.050075</td>\n",
       "      <td>0.0</td>\n",
       "      <td>0.0</td>\n",
       "      <td>0.0</td>\n",
       "    </tr>\n",
       "    <tr>\n",
       "      <th>AIA</th>\n",
       "      <td>0.181195</td>\n",
       "      <td>19.851507</td>\n",
       "      <td>0.0</td>\n",
       "      <td>NaN</td>\n",
       "      <td>NaN</td>\n",
       "    </tr>\n",
       "    <tr>\n",
       "      <th>ALB</th>\n",
       "      <td>4996.860554</td>\n",
       "      <td>15.736142</td>\n",
       "      <td>0.0</td>\n",
       "      <td>0.0</td>\n",
       "      <td>0.0</td>\n",
       "    </tr>\n",
       "    <tr>\n",
       "      <th>...</th>\n",
       "      <td>...</td>\n",
       "      <td>...</td>\n",
       "      <td>...</td>\n",
       "      <td>...</td>\n",
       "      <td>...</td>\n",
       "    </tr>\n",
       "    <tr>\n",
       "      <th>VNM</th>\n",
       "      <td>384.475775</td>\n",
       "      <td>23.679812</td>\n",
       "      <td>0.0</td>\n",
       "      <td>0.0</td>\n",
       "      <td>0.0</td>\n",
       "    </tr>\n",
       "    <tr>\n",
       "      <th>YEM</th>\n",
       "      <td>806.605927</td>\n",
       "      <td>11.943920</td>\n",
       "      <td>0.0</td>\n",
       "      <td>0.0</td>\n",
       "      <td>0.0</td>\n",
       "    </tr>\n",
       "    <tr>\n",
       "      <th>ZAF</th>\n",
       "      <td>283243.987465</td>\n",
       "      <td>27.969034</td>\n",
       "      <td>0.0</td>\n",
       "      <td>0.0</td>\n",
       "      <td>0.0</td>\n",
       "    </tr>\n",
       "    <tr>\n",
       "      <th>ZMB</th>\n",
       "      <td>5787.724798</td>\n",
       "      <td>8.611248</td>\n",
       "      <td>0.0</td>\n",
       "      <td>0.0</td>\n",
       "      <td>0.0</td>\n",
       "    </tr>\n",
       "    <tr>\n",
       "      <th>ZWE</th>\n",
       "      <td>3184.409283</td>\n",
       "      <td>8.942895</td>\n",
       "      <td>0.0</td>\n",
       "      <td>0.0</td>\n",
       "      <td>0.0</td>\n",
       "    </tr>\n",
       "  </tbody>\n",
       "</table>\n",
       "<p>210 rows × 5 columns</p>\n",
       "</div>"
      ],
      "text/plain": [
       "            total_cases  stringency_index  population  gdp_per_capita  \\\n",
       "iso_code                                                                \n",
       "ABW         1466.396722         19.729263         0.0             0.0   \n",
       "AFG        17246.787050         33.418461         0.0             0.0   \n",
       "AGO         1935.163957         10.050075         0.0             0.0   \n",
       "AIA            0.181195         19.851507         0.0             NaN   \n",
       "ALB         4996.860554         15.736142         0.0             0.0   \n",
       "...                 ...               ...         ...             ...   \n",
       "VNM          384.475775         23.679812         0.0             0.0   \n",
       "YEM          806.605927         11.943920         0.0             0.0   \n",
       "ZAF       283243.987465         27.969034         0.0             0.0   \n",
       "ZMB         5787.724798          8.611248         0.0             0.0   \n",
       "ZWE         3184.409283          8.942895         0.0             0.0   \n",
       "\n",
       "          human_development_index  \n",
       "iso_code                           \n",
       "ABW                           NaN  \n",
       "AFG                           0.0  \n",
       "AGO                           0.0  \n",
       "AIA                           NaN  \n",
       "ALB                           0.0  \n",
       "...                           ...  \n",
       "VNM                           0.0  \n",
       "YEM                           0.0  \n",
       "ZAF                           0.0  \n",
       "ZMB                           0.0  \n",
       "ZWE                           0.0  \n",
       "\n",
       "[210 rows x 5 columns]"
      ]
     },
     "execution_count": 5,
     "metadata": {},
     "output_type": "execute_result"
    }
   ],
   "source": [
    "df2 = df.groupby(by='iso_code').std()\n",
    "df2"
   ]
  },
  {
   "cell_type": "code",
   "execution_count": 6,
   "id": "485e3055",
   "metadata": {},
   "outputs": [
    {
     "data": {
      "text/plain": [
       "stringency_index           0.141338\n",
       "human_development_index    0.123012\n",
       "gdp_per_capita             0.113293\n",
       "total_cases                0.061367\n",
       "iso_code                   0.000000\n",
       "location                   0.000000\n",
       "date                       0.000000\n",
       "population                 0.000000\n",
       "dtype: float64"
      ]
     },
     "execution_count": 6,
     "metadata": {},
     "output_type": "execute_result"
    }
   ],
   "source": [
    "#missimg values\n",
    "missing_value = df.isnull().sum().sort_values(ascending = False) / df.shape[0]\n",
    "missing_value"
   ]
  },
  {
   "cell_type": "code",
   "execution_count": 7,
   "id": "0cd597a1",
   "metadata": {},
   "outputs": [],
   "source": [
    "\n",
    "#df[\"stringency_index\"].unique()\n",
    "#display(df[df[\"stringency_index\"].isnull()])\n"
   ]
  },
  {
   "cell_type": "markdown",
   "id": "f2ff2d1b",
   "metadata": {},
   "source": [
    "# Nan"
   ]
  },
  {
   "cell_type": "code",
   "execution_count": 8,
   "id": "da25b00b",
   "metadata": {},
   "outputs": [],
   "source": [
    "#remplacer les valeurs nan par ceux qui ont le mm date et isocode  \n",
    "df[\"stringency_index\"] = df.groupby(\"date\" and \"iso_code\")[\"stringency_index\"].apply(lambda x: x.ffill().bfill())"
   ]
  },
  {
   "cell_type": "code",
   "execution_count": 9,
   "id": "e5cb5cb9",
   "metadata": {},
   "outputs": [
    {
     "data": {
      "text/plain": [
       "human_development_index    0.123012\n",
       "stringency_index           0.115157\n",
       "gdp_per_capita             0.113293\n",
       "total_cases                0.061367\n",
       "iso_code                   0.000000\n",
       "location                   0.000000\n",
       "date                       0.000000\n",
       "population                 0.000000\n",
       "dtype: float64"
      ]
     },
     "execution_count": 9,
     "metadata": {},
     "output_type": "execute_result"
    }
   ],
   "source": [
    "missing_value = df.isnull().sum().sort_values(ascending = False) / df.shape[0]\n",
    "missing_value"
   ]
  },
  {
   "cell_type": "code",
   "execution_count": 10,
   "id": "876ad923",
   "metadata": {},
   "outputs": [
    {
     "data": {
      "text/plain": [
       "<AxesSubplot:ylabel='Frequency'>"
      ]
     },
     "execution_count": 10,
     "metadata": {},
     "output_type": "execute_result"
    },
    {
     "data": {
      "image/png": "[encoded data removed]",
      "text/plain": [
       "<Figure size 432x288 with 1 Axes>"
      ]
     },
     "metadata": {
      "needs_background": "light"
     },
     "output_type": "display_data"
    }
   ],
   "source": [
    "#taux de remplissage\n",
    "data=df.assign(taux_remplissage=list(df.notnull().sum(axis=1) / df.shape[1]))\n",
    "data.taux_remplissage.sort_values().plot(kind=\"hist\")"
   ]
  },
  {
   "cell_type": "code",
   "execution_count": 11,
   "id": "e1dd7427",
   "metadata": {},
   "outputs": [
    {
     "data": {
      "text/html": [
       "<div>\n",
       "<style scoped>\n",
       "    .dataframe tbody tr th:only-of-type {\n",
       "        vertical-align: middle;\n",
       "    }\n",
       "\n",
       "    .dataframe tbody tr th {\n",
       "        vertical-align: top;\n",
       "    }\n",
       "\n",
       "    .dataframe thead th {\n",
       "        text-align: right;\n",
       "    }\n",
       "</style>\n",
       "<table border=\"1\" class=\"dataframe\">\n",
       "  <thead>\n",
       "    <tr style=\"text-align: right;\">\n",
       "      <th></th>\n",
       "      <th>iso_code</th>\n",
       "      <th>location</th>\n",
       "      <th>date</th>\n",
       "      <th>total_cases</th>\n",
       "      <th>stringency_index</th>\n",
       "      <th>population</th>\n",
       "      <th>gdp_per_capita</th>\n",
       "      <th>human_development_index</th>\n",
       "      <th>taux_remplissage</th>\n",
       "    </tr>\n",
       "  </thead>\n",
       "  <tbody>\n",
       "    <tr>\n",
       "      <th>0</th>\n",
       "      <td>AFG</td>\n",
       "      <td>Afghanistan</td>\n",
       "      <td>2019-12-31</td>\n",
       "      <td>0.0</td>\n",
       "      <td>0.00</td>\n",
       "      <td>38928341</td>\n",
       "      <td>1803.987</td>\n",
       "      <td>0.498</td>\n",
       "      <td>1.0</td>\n",
       "    </tr>\n",
       "    <tr>\n",
       "      <th>1</th>\n",
       "      <td>AFG</td>\n",
       "      <td>Afghanistan</td>\n",
       "      <td>2020-01-01</td>\n",
       "      <td>0.0</td>\n",
       "      <td>0.00</td>\n",
       "      <td>38928341</td>\n",
       "      <td>1803.987</td>\n",
       "      <td>0.498</td>\n",
       "      <td>1.0</td>\n",
       "    </tr>\n",
       "    <tr>\n",
       "      <th>2</th>\n",
       "      <td>AFG</td>\n",
       "      <td>Afghanistan</td>\n",
       "      <td>2020-01-02</td>\n",
       "      <td>0.0</td>\n",
       "      <td>0.00</td>\n",
       "      <td>38928341</td>\n",
       "      <td>1803.987</td>\n",
       "      <td>0.498</td>\n",
       "      <td>1.0</td>\n",
       "    </tr>\n",
       "    <tr>\n",
       "      <th>3</th>\n",
       "      <td>AFG</td>\n",
       "      <td>Afghanistan</td>\n",
       "      <td>2020-01-03</td>\n",
       "      <td>0.0</td>\n",
       "      <td>0.00</td>\n",
       "      <td>38928341</td>\n",
       "      <td>1803.987</td>\n",
       "      <td>0.498</td>\n",
       "      <td>1.0</td>\n",
       "    </tr>\n",
       "    <tr>\n",
       "      <th>4</th>\n",
       "      <td>AFG</td>\n",
       "      <td>Afghanistan</td>\n",
       "      <td>2020-01-04</td>\n",
       "      <td>0.0</td>\n",
       "      <td>0.00</td>\n",
       "      <td>38928341</td>\n",
       "      <td>1803.987</td>\n",
       "      <td>0.498</td>\n",
       "      <td>1.0</td>\n",
       "    </tr>\n",
       "    <tr>\n",
       "      <th>...</th>\n",
       "      <td>...</td>\n",
       "      <td>...</td>\n",
       "      <td>...</td>\n",
       "      <td>...</td>\n",
       "      <td>...</td>\n",
       "      <td>...</td>\n",
       "      <td>...</td>\n",
       "      <td>...</td>\n",
       "      <td>...</td>\n",
       "    </tr>\n",
       "    <tr>\n",
       "      <th>50413</th>\n",
       "      <td>ZWE</td>\n",
       "      <td>Zimbabwe</td>\n",
       "      <td>2020-10-15</td>\n",
       "      <td>8055.0</td>\n",
       "      <td>76.85</td>\n",
       "      <td>14862927</td>\n",
       "      <td>1899.775</td>\n",
       "      <td>0.535</td>\n",
       "      <td>1.0</td>\n",
       "    </tr>\n",
       "    <tr>\n",
       "      <th>50414</th>\n",
       "      <td>ZWE</td>\n",
       "      <td>Zimbabwe</td>\n",
       "      <td>2020-10-16</td>\n",
       "      <td>8075.0</td>\n",
       "      <td>76.85</td>\n",
       "      <td>14862927</td>\n",
       "      <td>1899.775</td>\n",
       "      <td>0.535</td>\n",
       "      <td>1.0</td>\n",
       "    </tr>\n",
       "    <tr>\n",
       "      <th>50415</th>\n",
       "      <td>ZWE</td>\n",
       "      <td>Zimbabwe</td>\n",
       "      <td>2020-10-17</td>\n",
       "      <td>8099.0</td>\n",
       "      <td>76.85</td>\n",
       "      <td>14862927</td>\n",
       "      <td>1899.775</td>\n",
       "      <td>0.535</td>\n",
       "      <td>1.0</td>\n",
       "    </tr>\n",
       "    <tr>\n",
       "      <th>50416</th>\n",
       "      <td>ZWE</td>\n",
       "      <td>Zimbabwe</td>\n",
       "      <td>2020-10-18</td>\n",
       "      <td>8110.0</td>\n",
       "      <td>76.85</td>\n",
       "      <td>14862927</td>\n",
       "      <td>1899.775</td>\n",
       "      <td>0.535</td>\n",
       "      <td>1.0</td>\n",
       "    </tr>\n",
       "    <tr>\n",
       "      <th>50417</th>\n",
       "      <td>ZWE</td>\n",
       "      <td>Zimbabwe</td>\n",
       "      <td>2020-10-19</td>\n",
       "      <td>8147.0</td>\n",
       "      <td>76.85</td>\n",
       "      <td>14862927</td>\n",
       "      <td>1899.775</td>\n",
       "      <td>0.535</td>\n",
       "      <td>1.0</td>\n",
       "    </tr>\n",
       "  </tbody>\n",
       "</table>\n",
       "<p>50418 rows × 9 columns</p>\n",
       "</div>"
      ],
      "text/plain": [
       "      iso_code     location        date  total_cases  stringency_index  \\\n",
       "0          AFG  Afghanistan  2019-12-31          0.0              0.00   \n",
       "1          AFG  Afghanistan  2020-01-01          0.0              0.00   \n",
       "2          AFG  Afghanistan  2020-01-02          0.0              0.00   \n",
       "3          AFG  Afghanistan  2020-01-03          0.0              0.00   \n",
       "4          AFG  Afghanistan  2020-01-04          0.0              0.00   \n",
       "...        ...          ...         ...          ...               ...   \n",
       "50413      ZWE     Zimbabwe  2020-10-15       8055.0             76.85   \n",
       "50414      ZWE     Zimbabwe  2020-10-16       8075.0             76.85   \n",
       "50415      ZWE     Zimbabwe  2020-10-17       8099.0             76.85   \n",
       "50416      ZWE     Zimbabwe  2020-10-18       8110.0             76.85   \n",
       "50417      ZWE     Zimbabwe  2020-10-19       8147.0             76.85   \n",
       "\n",
       "       population  gdp_per_capita  human_development_index  taux_remplissage  \n",
       "0        38928341        1803.987                    0.498               1.0  \n",
       "1        38928341        1803.987                    0.498               1.0  \n",
       "2        38928341        1803.987                    0.498               1.0  \n",
       "3        38928341        1803.987                    0.498               1.0  \n",
       "4        38928341        1803.987                    0.498               1.0  \n",
       "...           ...             ...                      ...               ...  \n",
       "50413    14862927        1899.775                    0.535               1.0  \n",
       "50414    14862927        1899.775                    0.535               1.0  \n",
       "50415    14862927        1899.775                    0.535               1.0  \n",
       "50416    14862927        1899.775                    0.535               1.0  \n",
       "50417    14862927        1899.775                    0.535               1.0  \n",
       "\n",
       "[50418 rows x 9 columns]"
      ]
     },
     "execution_count": 11,
     "metadata": {},
     "output_type": "execute_result"
    }
   ],
   "source": [
    "data"
   ]
  },
  {
   "cell_type": "code",
   "execution_count": 12,
   "id": "240bff90",
   "metadata": {},
   "outputs": [],
   "source": [
    "data =data[data.taux_remplissage > 0.58]\n"
   ]
  },
  {
   "cell_type": "code",
   "execution_count": 13,
   "id": "267a7845",
   "metadata": {},
   "outputs": [
    {
     "name": "stderr",
     "output_type": "stream",
     "text": [
      "C:\\Users\\HP\\anaconda3\\lib\\site-packages\\pandas\\core\\frame.py:4308: SettingWithCopyWarning: \n",
      "A value is trying to be set on a copy of a slice from a DataFrame\n",
      "\n",
      "See the caveats in the documentation: https://pandas.pydata.org/pandas-docs/stable/user_guide/indexing.html#returning-a-view-versus-a-copy\n",
      "  return super().drop(\n"
     ]
    }
   ],
   "source": [
    "data.drop(columns = [\"taux_remplissage\"], inplace = True)"
   ]
  },
  {
   "cell_type": "code",
   "execution_count": null,
   "id": "25fa3a4f",
   "metadata": {},
   "outputs": [],
   "source": []
  },
  {
   "cell_type": "code",
   "execution_count": null,
   "id": "759013c4",
   "metadata": {},
   "outputs": [],
   "source": []
  },
  {
   "cell_type": "code",
   "execution_count": 14,
   "id": "1ac907e3",
   "metadata": {},
   "outputs": [
    {
     "data": {
      "text/plain": [
       "<AxesSubplot:>"
      ]
     },
     "execution_count": 14,
     "metadata": {},
     "output_type": "execute_result"
    },
    {
     "data": {
      "image/png": "[encoded data removed]",
      "text/plain": [
       "<Figure size 1440x864 with 2 Axes>"
      ]
     },
     "metadata": {
      "needs_background": "light"
     },
     "output_type": "display_data"
    }
   ],
   "source": [
    "# analyse de correlation entre les valeurs manquantes\n",
    "msno.heatmap(data)"
   ]
  },
  {
   "cell_type": "markdown",
   "id": "3999e0b5",
   "metadata": {},
   "source": [
    "# l'interpolation"
   ]
  },
  {
   "cell_type": "code",
   "execution_count": 15,
   "id": "07ceb644",
   "metadata": {},
   "outputs": [
    {
     "data": {
      "text/plain": [
       "<AxesSubplot:>"
      ]
     },
     "execution_count": 15,
     "metadata": {},
     "output_type": "execute_result"
    },
    {
     "data": {
      "image/png": "[encoded data removed]",
      "text/plain": [
       "<Figure size 720x720 with 1 Axes>"
      ]
     },
     "metadata": {
      "needs_background": "light"
     },
     "output_type": "display_data"
    }
   ],
   "source": [
    "plt.figure(figsize=(10,10))\n",
    "data.boxplot(column=['total_cases','stringency_index','gdp_per_capita','human_development_index']) "
   ]
  },
  {
   "cell_type": "code",
   "execution_count": 16,
   "id": "0252d825",
   "metadata": {},
   "outputs": [
    {
     "name": "stderr",
     "output_type": "stream",
     "text": [
      "<ipython-input-16-9b7feb4941c5>:1: SettingWithCopyWarning: \n",
      "A value is trying to be set on a copy of a slice from a DataFrame\n",
      "\n",
      "See the caveats in the documentation: https://pandas.pydata.org/pandas-docs/stable/user_guide/indexing.html#returning-a-view-versus-a-copy\n",
      "  data.interpolate(method ='linear', limit_direction ='backward', inplace=True)\n"
     ]
    }
   ],
   "source": [
    "data.interpolate(method ='linear', limit_direction ='backward', inplace=True)"
   ]
  },
  {
   "cell_type": "code",
   "execution_count": 17,
   "id": "59418f89",
   "metadata": {},
   "outputs": [
    {
     "data": {
      "text/plain": [
       "iso_code                   0.0\n",
       "location                   0.0\n",
       "date                       0.0\n",
       "total_cases                0.0\n",
       "stringency_index           0.0\n",
       "population                 0.0\n",
       "gdp_per_capita             0.0\n",
       "human_development_index    0.0\n",
       "dtype: float64"
      ]
     },
     "execution_count": 17,
     "metadata": {},
     "output_type": "execute_result"
    }
   ],
   "source": [
    "data.isnull().sum()/data.shape[0]"
   ]
  },
  {
   "cell_type": "code",
   "execution_count": 18,
   "id": "c9b6b7c4",
   "metadata": {},
   "outputs": [
    {
     "data": {
      "text/html": [
       "<div>\n",
       "<style scoped>\n",
       "    .dataframe tbody tr th:only-of-type {\n",
       "        vertical-align: middle;\n",
       "    }\n",
       "\n",
       "    .dataframe tbody tr th {\n",
       "        vertical-align: top;\n",
       "    }\n",
       "\n",
       "    .dataframe thead th {\n",
       "        text-align: right;\n",
       "    }\n",
       "</style>\n",
       "<table border=\"1\" class=\"dataframe\">\n",
       "  <thead>\n",
       "    <tr style=\"text-align: right;\">\n",
       "      <th></th>\n",
       "      <th>iso_code</th>\n",
       "      <th>location</th>\n",
       "      <th>date</th>\n",
       "      <th>total_cases</th>\n",
       "      <th>stringency_index</th>\n",
       "      <th>population</th>\n",
       "      <th>gdp_per_capita</th>\n",
       "      <th>human_development_index</th>\n",
       "    </tr>\n",
       "  </thead>\n",
       "  <tbody>\n",
       "    <tr>\n",
       "      <th>0</th>\n",
       "      <td>AFG</td>\n",
       "      <td>Afghanistan</td>\n",
       "      <td>2019-12-31</td>\n",
       "      <td>0.0</td>\n",
       "      <td>0.00</td>\n",
       "      <td>38928341</td>\n",
       "      <td>1803.987</td>\n",
       "      <td>0.498</td>\n",
       "    </tr>\n",
       "    <tr>\n",
       "      <th>1</th>\n",
       "      <td>AFG</td>\n",
       "      <td>Afghanistan</td>\n",
       "      <td>2020-01-01</td>\n",
       "      <td>0.0</td>\n",
       "      <td>0.00</td>\n",
       "      <td>38928341</td>\n",
       "      <td>1803.987</td>\n",
       "      <td>0.498</td>\n",
       "    </tr>\n",
       "    <tr>\n",
       "      <th>2</th>\n",
       "      <td>AFG</td>\n",
       "      <td>Afghanistan</td>\n",
       "      <td>2020-01-02</td>\n",
       "      <td>0.0</td>\n",
       "      <td>0.00</td>\n",
       "      <td>38928341</td>\n",
       "      <td>1803.987</td>\n",
       "      <td>0.498</td>\n",
       "    </tr>\n",
       "    <tr>\n",
       "      <th>3</th>\n",
       "      <td>AFG</td>\n",
       "      <td>Afghanistan</td>\n",
       "      <td>2020-01-03</td>\n",
       "      <td>0.0</td>\n",
       "      <td>0.00</td>\n",
       "      <td>38928341</td>\n",
       "      <td>1803.987</td>\n",
       "      <td>0.498</td>\n",
       "    </tr>\n",
       "    <tr>\n",
       "      <th>4</th>\n",
       "      <td>AFG</td>\n",
       "      <td>Afghanistan</td>\n",
       "      <td>2020-01-04</td>\n",
       "      <td>0.0</td>\n",
       "      <td>0.00</td>\n",
       "      <td>38928341</td>\n",
       "      <td>1803.987</td>\n",
       "      <td>0.498</td>\n",
       "    </tr>\n",
       "    <tr>\n",
       "      <th>...</th>\n",
       "      <td>...</td>\n",
       "      <td>...</td>\n",
       "      <td>...</td>\n",
       "      <td>...</td>\n",
       "      <td>...</td>\n",
       "      <td>...</td>\n",
       "      <td>...</td>\n",
       "      <td>...</td>\n",
       "    </tr>\n",
       "    <tr>\n",
       "      <th>50413</th>\n",
       "      <td>ZWE</td>\n",
       "      <td>Zimbabwe</td>\n",
       "      <td>2020-10-15</td>\n",
       "      <td>8055.0</td>\n",
       "      <td>76.85</td>\n",
       "      <td>14862927</td>\n",
       "      <td>1899.775</td>\n",
       "      <td>0.535</td>\n",
       "    </tr>\n",
       "    <tr>\n",
       "      <th>50414</th>\n",
       "      <td>ZWE</td>\n",
       "      <td>Zimbabwe</td>\n",
       "      <td>2020-10-16</td>\n",
       "      <td>8075.0</td>\n",
       "      <td>76.85</td>\n",
       "      <td>14862927</td>\n",
       "      <td>1899.775</td>\n",
       "      <td>0.535</td>\n",
       "    </tr>\n",
       "    <tr>\n",
       "      <th>50415</th>\n",
       "      <td>ZWE</td>\n",
       "      <td>Zimbabwe</td>\n",
       "      <td>2020-10-17</td>\n",
       "      <td>8099.0</td>\n",
       "      <td>76.85</td>\n",
       "      <td>14862927</td>\n",
       "      <td>1899.775</td>\n",
       "      <td>0.535</td>\n",
       "    </tr>\n",
       "    <tr>\n",
       "      <th>50416</th>\n",
       "      <td>ZWE</td>\n",
       "      <td>Zimbabwe</td>\n",
       "      <td>2020-10-18</td>\n",
       "      <td>8110.0</td>\n",
       "      <td>76.85</td>\n",
       "      <td>14862927</td>\n",
       "      <td>1899.775</td>\n",
       "      <td>0.535</td>\n",
       "    </tr>\n",
       "    <tr>\n",
       "      <th>50417</th>\n",
       "      <td>ZWE</td>\n",
       "      <td>Zimbabwe</td>\n",
       "      <td>2020-10-19</td>\n",
       "      <td>8147.0</td>\n",
       "      <td>76.85</td>\n",
       "      <td>14862927</td>\n",
       "      <td>1899.775</td>\n",
       "      <td>0.535</td>\n",
       "    </tr>\n",
       "  </tbody>\n",
       "</table>\n",
       "<p>50336 rows × 8 columns</p>\n",
       "</div>"
      ],
      "text/plain": [
       "      iso_code     location        date  total_cases  stringency_index  \\\n",
       "0          AFG  Afghanistan  2019-12-31          0.0              0.00   \n",
       "1          AFG  Afghanistan  2020-01-01          0.0              0.00   \n",
       "2          AFG  Afghanistan  2020-01-02          0.0              0.00   \n",
       "3          AFG  Afghanistan  2020-01-03          0.0              0.00   \n",
       "4          AFG  Afghanistan  2020-01-04          0.0              0.00   \n",
       "...        ...          ...         ...          ...               ...   \n",
       "50413      ZWE     Zimbabwe  2020-10-15       8055.0             76.85   \n",
       "50414      ZWE     Zimbabwe  2020-10-16       8075.0             76.85   \n",
       "50415      ZWE     Zimbabwe  2020-10-17       8099.0             76.85   \n",
       "50416      ZWE     Zimbabwe  2020-10-18       8110.0             76.85   \n",
       "50417      ZWE     Zimbabwe  2020-10-19       8147.0             76.85   \n",
       "\n",
       "       population  gdp_per_capita  human_development_index  \n",
       "0        38928341        1803.987                    0.498  \n",
       "1        38928341        1803.987                    0.498  \n",
       "2        38928341        1803.987                    0.498  \n",
       "3        38928341        1803.987                    0.498  \n",
       "4        38928341        1803.987                    0.498  \n",
       "...           ...             ...                      ...  \n",
       "50413    14862927        1899.775                    0.535  \n",
       "50414    14862927        1899.775                    0.535  \n",
       "50415    14862927        1899.775                    0.535  \n",
       "50416    14862927        1899.775                    0.535  \n",
       "50417    14862927        1899.775                    0.535  \n",
       "\n",
       "[50336 rows x 8 columns]"
      ]
     },
     "execution_count": 18,
     "metadata": {},
     "output_type": "execute_result"
    }
   ],
   "source": [
    "data\n"
   ]
  },
  {
   "cell_type": "code",
   "execution_count": 19,
   "id": "6741d8bd",
   "metadata": {},
   "outputs": [
    {
     "data": {
      "text/plain": [
       "False"
      ]
     },
     "execution_count": 19,
     "metadata": {},
     "output_type": "execute_result"
    }
   ],
   "source": [
    "# verify\n",
    "data.isnull().values.any()"
   ]
  },
  {
   "cell_type": "markdown",
   "id": "7437779d",
   "metadata": {},
   "source": [
    "# #Data 2"
   ]
  },
  {
   "cell_type": "code",
   "execution_count": 20,
   "id": "d393de31",
   "metadata": {},
   "outputs": [],
   "source": [
    "#interesting_cols2=['iso_code','continent','date','location','total_cases','stringency_index','population','gdp_per_capita','human_development_index']\n",
    "data2=pd.read_excel('owid-covid-data.xlsx')"
   ]
  },
  {
   "cell_type": "code",
   "execution_count": 21,
   "id": "80b2f85b",
   "metadata": {},
   "outputs": [],
   "source": [
    "interesting_cols2=['iso_code','continent','date','location','total_cases','stringency_index','population','gdp_per_capita','human_development_index']\n",
    "data = data2[interesting_cols2]"
   ]
  },
  {
   "cell_type": "markdown",
   "id": "9b477422",
   "metadata": {},
   "source": [
    "## Analyse des valeurs manquantes\n"
   ]
  },
  {
   "cell_type": "code",
   "execution_count": 22,
   "id": "8c3ada19",
   "metadata": {},
   "outputs": [
    {
     "data": {
      "text/plain": [
       "iso_code                   0.000000\n",
       "date                       0.000000\n",
       "location                   0.000000\n",
       "population                 0.005805\n",
       "total_cases                0.041010\n",
       "continent                  0.057454\n",
       "gdp_per_capita             0.180924\n",
       "human_development_index    0.200443\n",
       "stringency_index           0.246358\n",
       "dtype: float64"
      ]
     },
     "execution_count": 22,
     "metadata": {},
     "output_type": "execute_result"
    }
   ],
   "source": [
    "# pourcentage des valeurs manquantes pour chaque colonne\n",
    "missing_value_parcentage_per_column = data.isnull().sum()/data.shape[0]\n",
    "missing_value_parcentage_per_column.sort_values()"
   ]
  },
  {
   "cell_type": "code",
   "execution_count": 23,
   "id": "e8d68d7e",
   "metadata": {},
   "outputs": [
    {
     "data": {
      "text/plain": [
       "0.08133267981474342"
      ]
     },
     "execution_count": 23,
     "metadata": {},
     "output_type": "execute_result"
    }
   ],
   "source": [
    "# pourcentage des valeurs manquantes pour toute la DataFrame\n",
    "missing_value_parcentage_per_Data = data.isnull().sum().sum()/data.size\n",
    "missing_value_parcentage_per_Data"
   ]
  },
  {
   "cell_type": "code",
   "execution_count": 24,
   "id": "c975c7b5",
   "metadata": {},
   "outputs": [
    {
     "data": {
      "text/plain": [
       "(223066, 9)"
      ]
     },
     "execution_count": 24,
     "metadata": {},
     "output_type": "execute_result"
    }
   ],
   "source": [
    "data.shape"
   ]
  },
  {
   "cell_type": "code",
   "execution_count": 25,
   "id": "f1e40f91",
   "metadata": {},
   "outputs": [
    {
     "data": {
      "text/plain": [
       "stringency_index           0.246358\n",
       "human_development_index    0.200443\n",
       "gdp_per_capita             0.180924\n",
       "continent                  0.057454\n",
       "total_cases                0.041010\n",
       "population                 0.005805\n",
       "iso_code                   0.000000\n",
       "date                       0.000000\n",
       "location                   0.000000\n",
       "dtype: float64"
      ]
     },
     "execution_count": 25,
     "metadata": {},
     "output_type": "execute_result"
    }
   ],
   "source": [
    "# Analyse des valeurs manquantes par colonnes\n",
    "missing_value = data.isnull().sum().sort_values(ascending = False) / data.shape[0]\n",
    "missing_value\n"
   ]
  },
  {
   "cell_type": "code",
   "execution_count": 26,
   "id": "d40ec575",
   "metadata": {},
   "outputs": [
    {
     "data": {
      "text/plain": [
       "<BarContainer object of 9 artists>"
      ]
     },
     "execution_count": 26,
     "metadata": {},
     "output_type": "execute_result"
    },
    {
     "data": {
      "image/png": "[encoded data removed]",
      "text/plain": [
       "<Figure size 720x720 with 1 Axes>"
      ]
     },
     "metadata": {
      "needs_background": "light"
     },
     "output_type": "display_data"
    }
   ],
   "source": [
    "plt.figure(figsize=(10,10))\n",
    "plt.barh(missing_value.index, missing_value.values)"
   ]
  },
  {
   "cell_type": "markdown",
   "id": "4b707cce",
   "metadata": {},
   "source": [
    "# Suppression des lignes ayant tropde valeurs manquantes"
   ]
  },
  {
   "cell_type": "code",
   "execution_count": 27,
   "id": "3486c1d4",
   "metadata": {},
   "outputs": [
    {
     "data": {
      "text/plain": [
       "<AxesSubplot:>"
      ]
     },
     "execution_count": 27,
     "metadata": {},
     "output_type": "execute_result"
    },
    {
     "data": {
      "image/png": "[encoded data removed]",
      "text/plain": [
       "<Figure size 720x360 with 2 Axes>"
      ]
     },
     "metadata": {
      "needs_background": "light"
     },
     "output_type": "display_data"
    }
   ],
   "source": [
    "msno.matrix(data,figsize=(10,5), fontsize=12) "
   ]
  },
  {
   "cell_type": "markdown",
   "id": "e266cdfd",
   "metadata": {},
   "source": [
    "#### Taux de remplissage :\n",
    "C'est pour mesurer le taux de remplissage de chaque ligne de notre DataFrame"
   ]
  },
  {
   "cell_type": "code",
   "execution_count": 28,
   "id": "cedeae43",
   "metadata": {},
   "outputs": [
    {
     "data": {
      "text/plain": [
       "<AxesSubplot:ylabel='Frequency'>"
      ]
     },
     "execution_count": 28,
     "metadata": {},
     "output_type": "execute_result"
    },
    {
     "data": {
      "image/png": "[encoded data removed]",
      "text/plain": [
       "<Figure size 432x288 with 1 Axes>"
      ]
     },
     "metadata": {
      "needs_background": "light"
     },
     "output_type": "display_data"
    }
   ],
   "source": [
    "new_data=data.assign(taux_remplissage=list(data.notnull().sum(axis=1) / data.shape[1]))\n",
    "new_data.taux_remplissage.sort_values().plot(kind=\"hist\")"
   ]
  },
  {
   "cell_type": "raw",
   "id": "f264b1e8",
   "metadata": {},
   "source": [
    "Afin d'avoir une bonne base de données qui va nous servir à résoudre notre problème, il est raisonnable de prendre que les lignes contenant le plus d'informations possibles. Par exemple prenons que celle ayant un taux de remplissage > 0.5"
   ]
  },
  {
   "cell_type": "code",
   "execution_count": 29,
   "id": "e1c2a0c1",
   "metadata": {},
   "outputs": [],
   "source": [
    "new_data = new_data[new_data.taux_remplissage > 0.5]\n",
    "new_data.drop(columns = [\"taux_remplissage\"], inplace = True)"
   ]
  },
  {
   "cell_type": "markdown",
   "id": "d8437ffa",
   "metadata": {},
   "source": [
    "#### analyse de correlation entre les valeurs manquantes"
   ]
  },
  {
   "cell_type": "code",
   "execution_count": 30,
   "id": "fc870ada",
   "metadata": {},
   "outputs": [
    {
     "data": {
      "text/plain": [
       "<AxesSubplot:>"
      ]
     },
     "execution_count": 30,
     "metadata": {},
     "output_type": "execute_result"
    },
    {
     "data": {
      "image/png": "[encoded data removed]",
      "text/plain": [
       "<Figure size 1440x864 with 2 Axes>"
      ]
     },
     "metadata": {
      "needs_background": "light"
     },
     "output_type": "display_data"
    }
   ],
   "source": [
    "# Pour voir les correlations existantes entre nos différents colonnes\n",
    "msno.heatmap(new_data)"
   ]
  },
  {
   "cell_type": "markdown",
   "id": "8769e695",
   "metadata": {},
   "source": [
    "#### Nettoyage problématique et statistiques\n"
   ]
  },
  {
   "cell_type": "code",
   "execution_count": 31,
   "id": "6d90c68d",
   "metadata": {
    "scrolled": true
   },
   "outputs": [
    {
     "data": {
      "text/plain": [
       "<AxesSubplot:>"
      ]
     },
     "execution_count": 31,
     "metadata": {},
     "output_type": "execute_result"
    },
    {
     "data": {
      "image/png": "[encoded data removed]",
      "text/plain": [
       "<Figure size 720x720 with 1 Axes>"
      ]
     },
     "metadata": {
      "needs_background": "light"
     },
     "output_type": "display_data"
    }
   ],
   "source": [
    "plt.figure(figsize=(10,10))\n",
    "new_data.boxplot(column=['total_cases','stringency_index','population','gdp_per_capita','human_development_index']) "
   ]
  },
  {
   "cell_type": "markdown",
   "id": "3ce3bf6d",
   "metadata": {},
   "source": [
    "#### On remarque qu'il existe des valeurs abérantes très importantes  pour la colonne population"
   ]
  },
  {
   "cell_type": "code",
   "execution_count": 32,
   "id": "fd125e59",
   "metadata": {},
   "outputs": [
    {
     "data": {
      "text/plain": [
       "7909295152.0"
      ]
     },
     "execution_count": 32,
     "metadata": {},
     "output_type": "execute_result"
    }
   ],
   "source": [
    "# Une autre remarque \n",
    "max(new_data.population)"
   ]
  },
  {
   "cell_type": "markdown",
   "id": "f1d63134",
   "metadata": {},
   "source": [
    "## Data Cleaning"
   ]
  },
  {
   "cell_type": "code",
   "execution_count": 33,
   "id": "dabc7a16",
   "metadata": {},
   "outputs": [],
   "source": [
    "# Pour supprimer les outliers\n",
    "def remove_outliers(col,df):\n",
    "    q1 = df[col].quantile(0.25)\n",
    "    q3 = df[col].quantile(0.75)\n",
    "    iqr = q3 - q1\n",
    "    return df.query(f\"{col} >= {q1-1.5*iqr} and {col} <= {q3 + 1.5*iqr}\")"
   ]
  },
  {
   "cell_type": "code",
   "execution_count": 34,
   "id": "c3a6b559",
   "metadata": {},
   "outputs": [],
   "source": [
    "# Pour supprimer les outliers liés à la colonne population\n",
    "#remove_outliers(population,new_data)"
   ]
  },
  {
   "cell_type": "code",
   "execution_count": 35,
   "id": "d012bb0f",
   "metadata": {},
   "outputs": [
    {
     "data": {
      "text/plain": [
       "iso_code                   0.000000\n",
       "continent                  0.053350\n",
       "date                       0.000000\n",
       "location                   0.000000\n",
       "total_cases                0.039790\n",
       "stringency_index           0.241933\n",
       "population                 0.000000\n",
       "gdp_per_capita             0.176115\n",
       "human_development_index    0.195749\n",
       "dtype: float64"
      ]
     },
     "execution_count": 35,
     "metadata": {},
     "output_type": "execute_result"
    }
   ],
   "source": [
    "new_data.isnull().sum()/new_data.shape[0]"
   ]
  },
  {
   "cell_type": "markdown",
   "id": "556cd315",
   "metadata": {},
   "source": [
    "### Pour la colonne continent\n",
    "update_df : est la base de donnée finale par rapport au nettoyage de la colonne Continent"
   ]
  },
  {
   "cell_type": "code",
   "execution_count": 36,
   "id": "0ad3eec6",
   "metadata": {},
   "outputs": [
    {
     "data": {
      "text/plain": [
       "array(['Asia', nan, 'Europe', 'Africa', 'North America', 'South America',\n",
       "       'Oceania'], dtype=object)"
      ]
     },
     "execution_count": 36,
     "metadata": {},
     "output_type": "execute_result"
    }
   ],
   "source": [
    "new_data.continent.unique()"
   ]
  },
  {
   "cell_type": "code",
   "execution_count": 37,
   "id": "7dd370e3",
   "metadata": {},
   "outputs": [
    {
     "data": {
      "text/plain": [
       "array(['AFG', 'OWID_AFR', 'ALB', 'DZA', 'AND', 'AGO', 'AIA', 'ATG', 'ARG',\n",
       "       'ARM', 'ABW', 'OWID_ASI', 'AUS', 'AUT', 'AZE', 'BHS', 'BHR', 'BGD',\n",
       "       'BRB', 'BLR', 'BEL', 'BLZ', 'BEN', 'BMU', 'BTN', 'BOL', 'BES',\n",
       "       'BIH', 'BWA', 'BRA', 'VGB', 'BRN', 'BGR', 'BFA', 'BDI', 'KHM',\n",
       "       'CMR', 'CAN', 'CPV', 'CYM', 'CAF', 'TCD', 'CHL', 'CHN', 'COL',\n",
       "       'COM', 'COG', 'COK', 'CRI', 'CIV', 'HRV', 'CUB', 'CUW', 'CYP',\n",
       "       'CZE', 'COD', 'DNK', 'DJI', 'DMA', 'DOM', 'ECU', 'EGY', 'SLV',\n",
       "       'GNQ', 'ERI', 'EST', 'SWZ', 'ETH', 'OWID_EUR', 'OWID_EUN', 'FRO',\n",
       "       'FLK', 'FJI', 'FIN', 'FRA', 'PYF', 'GAB', 'GMB', 'GEO', 'DEU',\n",
       "       'GHA', 'GIB', 'GRC', 'GRL', 'GRD', 'GUM', 'GTM', 'GGY', 'GIN',\n",
       "       'GNB', 'GUY', 'HTI', 'OWID_HIC', 'HND', 'HKG', 'HUN', 'ISL', 'IND',\n",
       "       'IDN', 'IRN', 'IRQ', 'IRL', 'IMN', 'ISR', 'ITA', 'JAM', 'JPN',\n",
       "       'JEY', 'JOR', 'KAZ', 'KEN', 'KIR', 'OWID_KOS', 'KWT', 'KGZ', 'LAO',\n",
       "       'LVA', 'LBN', 'LSO', 'LBR', 'LBY', 'LIE', 'LTU', 'OWID_LIC',\n",
       "       'OWID_LMC', 'LUX', 'MAC', 'MDG', 'MWI', 'MYS', 'MDV', 'MLI', 'MLT',\n",
       "       'MHL', 'MRT', 'MUS', 'MEX', 'FSM', 'MDA', 'MCO', 'MNG', 'MNE',\n",
       "       'MSR', 'MAR', 'MOZ', 'MMR', 'NAM', 'NRU', 'NPL', 'NLD', 'NCL',\n",
       "       'NZL', 'NIC', 'NER', 'NGA', 'NIU', 'OWID_NAM', 'PRK', 'MKD', 'MNP',\n",
       "       'NOR', 'OWID_OCE', 'OMN', 'PAK', 'PLW', 'PSE', 'PAN', 'PNG', 'PRY',\n",
       "       'PER', 'PHL', 'PCN', 'POL', 'PRT', 'PRI', 'QAT', 'ROU', 'RUS',\n",
       "       'RWA', 'SHN', 'KNA', 'LCA', 'SPM', 'VCT', 'WSM', 'SMR', 'STP',\n",
       "       'SAU', 'SEN', 'SRB', 'SYC', 'SLE', 'SGP', 'SXM', 'SVK', 'SVN',\n",
       "       'SLB', 'SOM', 'ZAF', 'OWID_SAM', 'KOR', 'SSD', 'ESP', 'LKA', 'SDN',\n",
       "       'SUR', 'SWE', 'CHE', 'SYR', 'TWN', 'TJK', 'TZA', 'THA', 'TLS',\n",
       "       'TGO', 'TKL', 'TON', 'TTO', 'TUN', 'TUR', 'TKM', 'TCA', 'TUV',\n",
       "       'UGA', 'UKR', 'ARE', 'GBR', 'USA', 'VIR', 'OWID_UMC', 'URY', 'UZB',\n",
       "       'VUT', 'VAT', 'VEN', 'VNM', 'WLF', 'ESH', 'OWID_WRL', 'YEM', 'ZMB',\n",
       "       'ZWE'], dtype=object)"
      ]
     },
     "execution_count": 37,
     "metadata": {},
     "output_type": "execute_result"
    }
   ],
   "source": [
    "new_data.iso_code.unique()"
   ]
  },
  {
   "cell_type": "code",
   "execution_count": 38,
   "id": "5e4657e1",
   "metadata": {},
   "outputs": [],
   "source": [
    "dictionnaire = {}\n",
    "for country in new_data.iso_code.unique():\n",
    "    dictionnaire[country] = new_data[new_data['iso_code'] == country]['continent'].reset_index().iloc[0,1]"
   ]
  },
  {
   "cell_type": "code",
   "execution_count": 39,
   "id": "740f8317",
   "metadata": {},
   "outputs": [
    {
     "data": {
      "text/html": [
       "<div>\n",
       "<style scoped>\n",
       "    .dataframe tbody tr th:only-of-type {\n",
       "        vertical-align: middle;\n",
       "    }\n",
       "\n",
       "    .dataframe tbody tr th {\n",
       "        vertical-align: top;\n",
       "    }\n",
       "\n",
       "    .dataframe thead th {\n",
       "        text-align: right;\n",
       "    }\n",
       "</style>\n",
       "<table border=\"1\" class=\"dataframe\">\n",
       "  <thead>\n",
       "    <tr style=\"text-align: right;\">\n",
       "      <th></th>\n",
       "      <th>iso_code</th>\n",
       "      <th>continent</th>\n",
       "    </tr>\n",
       "  </thead>\n",
       "  <tbody>\n",
       "    <tr>\n",
       "      <th>0</th>\n",
       "      <td>AFG</td>\n",
       "      <td>Asia</td>\n",
       "    </tr>\n",
       "    <tr>\n",
       "      <th>1</th>\n",
       "      <td>OWID_AFR</td>\n",
       "      <td>NaN</td>\n",
       "    </tr>\n",
       "    <tr>\n",
       "      <th>2</th>\n",
       "      <td>ALB</td>\n",
       "      <td>Europe</td>\n",
       "    </tr>\n",
       "    <tr>\n",
       "      <th>3</th>\n",
       "      <td>DZA</td>\n",
       "      <td>Africa</td>\n",
       "    </tr>\n",
       "    <tr>\n",
       "      <th>4</th>\n",
       "      <td>AND</td>\n",
       "      <td>Europe</td>\n",
       "    </tr>\n",
       "    <tr>\n",
       "      <th>...</th>\n",
       "      <td>...</td>\n",
       "      <td>...</td>\n",
       "    </tr>\n",
       "    <tr>\n",
       "      <th>237</th>\n",
       "      <td>ESH</td>\n",
       "      <td>Africa</td>\n",
       "    </tr>\n",
       "    <tr>\n",
       "      <th>238</th>\n",
       "      <td>OWID_WRL</td>\n",
       "      <td>NaN</td>\n",
       "    </tr>\n",
       "    <tr>\n",
       "      <th>239</th>\n",
       "      <td>YEM</td>\n",
       "      <td>Asia</td>\n",
       "    </tr>\n",
       "    <tr>\n",
       "      <th>240</th>\n",
       "      <td>ZMB</td>\n",
       "      <td>Africa</td>\n",
       "    </tr>\n",
       "    <tr>\n",
       "      <th>241</th>\n",
       "      <td>ZWE</td>\n",
       "      <td>Africa</td>\n",
       "    </tr>\n",
       "  </tbody>\n",
       "</table>\n",
       "<p>242 rows × 2 columns</p>\n",
       "</div>"
      ],
      "text/plain": [
       "     iso_code continent\n",
       "0         AFG      Asia\n",
       "1    OWID_AFR       NaN\n",
       "2         ALB    Europe\n",
       "3         DZA    Africa\n",
       "4         AND    Europe\n",
       "..        ...       ...\n",
       "237       ESH    Africa\n",
       "238  OWID_WRL       NaN\n",
       "239       YEM      Asia\n",
       "240       ZMB    Africa\n",
       "241       ZWE    Africa\n",
       "\n",
       "[242 rows x 2 columns]"
      ]
     },
     "execution_count": 39,
     "metadata": {},
     "output_type": "execute_result"
    }
   ],
   "source": [
    "DataFrame_continent = pd.DataFrame(list(dictionnaire.items()),\n",
    "                   columns=['iso_code', 'continent'])\n",
    "DataFrame_continent\n"
   ]
  },
  {
   "cell_type": "code",
   "execution_count": 40,
   "id": "309d1e24",
   "metadata": {},
   "outputs": [
    {
     "data": {
      "text/html": [
       "<div>\n",
       "<style scoped>\n",
       "    .dataframe tbody tr th:only-of-type {\n",
       "        vertical-align: middle;\n",
       "    }\n",
       "\n",
       "    .dataframe tbody tr th {\n",
       "        vertical-align: top;\n",
       "    }\n",
       "\n",
       "    .dataframe thead th {\n",
       "        text-align: right;\n",
       "    }\n",
       "</style>\n",
       "<table border=\"1\" class=\"dataframe\">\n",
       "  <thead>\n",
       "    <tr style=\"text-align: right;\">\n",
       "      <th></th>\n",
       "      <th>iso_code</th>\n",
       "      <th>continent</th>\n",
       "      <th>date</th>\n",
       "      <th>location</th>\n",
       "      <th>total_cases</th>\n",
       "      <th>stringency_index</th>\n",
       "      <th>population</th>\n",
       "      <th>gdp_per_capita</th>\n",
       "      <th>human_development_index</th>\n",
       "    </tr>\n",
       "  </thead>\n",
       "  <tbody>\n",
       "    <tr>\n",
       "      <th>0</th>\n",
       "      <td>AFG</td>\n",
       "      <td>Asia</td>\n",
       "      <td>2020-02-24</td>\n",
       "      <td>Afghanistan</td>\n",
       "      <td>5.0</td>\n",
       "      <td>8.33</td>\n",
       "      <td>40099462.0</td>\n",
       "      <td>1803.987</td>\n",
       "      <td>0.511</td>\n",
       "    </tr>\n",
       "    <tr>\n",
       "      <th>1</th>\n",
       "      <td>AFG</td>\n",
       "      <td>Asia</td>\n",
       "      <td>2020-02-25</td>\n",
       "      <td>Afghanistan</td>\n",
       "      <td>5.0</td>\n",
       "      <td>8.33</td>\n",
       "      <td>40099462.0</td>\n",
       "      <td>1803.987</td>\n",
       "      <td>0.511</td>\n",
       "    </tr>\n",
       "    <tr>\n",
       "      <th>2</th>\n",
       "      <td>AFG</td>\n",
       "      <td>Asia</td>\n",
       "      <td>2020-02-26</td>\n",
       "      <td>Afghanistan</td>\n",
       "      <td>5.0</td>\n",
       "      <td>8.33</td>\n",
       "      <td>40099462.0</td>\n",
       "      <td>1803.987</td>\n",
       "      <td>0.511</td>\n",
       "    </tr>\n",
       "    <tr>\n",
       "      <th>3</th>\n",
       "      <td>AFG</td>\n",
       "      <td>Asia</td>\n",
       "      <td>2020-02-27</td>\n",
       "      <td>Afghanistan</td>\n",
       "      <td>5.0</td>\n",
       "      <td>8.33</td>\n",
       "      <td>40099462.0</td>\n",
       "      <td>1803.987</td>\n",
       "      <td>0.511</td>\n",
       "    </tr>\n",
       "    <tr>\n",
       "      <th>4</th>\n",
       "      <td>AFG</td>\n",
       "      <td>Asia</td>\n",
       "      <td>2020-02-28</td>\n",
       "      <td>Afghanistan</td>\n",
       "      <td>5.0</td>\n",
       "      <td>8.33</td>\n",
       "      <td>40099462.0</td>\n",
       "      <td>1803.987</td>\n",
       "      <td>0.511</td>\n",
       "    </tr>\n",
       "    <tr>\n",
       "      <th>...</th>\n",
       "      <td>...</td>\n",
       "      <td>...</td>\n",
       "      <td>...</td>\n",
       "      <td>...</td>\n",
       "      <td>...</td>\n",
       "      <td>...</td>\n",
       "      <td>...</td>\n",
       "      <td>...</td>\n",
       "      <td>...</td>\n",
       "    </tr>\n",
       "    <tr>\n",
       "      <th>223061</th>\n",
       "      <td>ZWE</td>\n",
       "      <td>Africa</td>\n",
       "      <td>2022-10-07</td>\n",
       "      <td>Zimbabwe</td>\n",
       "      <td>257655.0</td>\n",
       "      <td>NaN</td>\n",
       "      <td>15993524.0</td>\n",
       "      <td>1899.775</td>\n",
       "      <td>0.571</td>\n",
       "    </tr>\n",
       "    <tr>\n",
       "      <th>223062</th>\n",
       "      <td>ZWE</td>\n",
       "      <td>Africa</td>\n",
       "      <td>2022-10-08</td>\n",
       "      <td>Zimbabwe</td>\n",
       "      <td>257655.0</td>\n",
       "      <td>NaN</td>\n",
       "      <td>15993524.0</td>\n",
       "      <td>1899.775</td>\n",
       "      <td>0.571</td>\n",
       "    </tr>\n",
       "    <tr>\n",
       "      <th>223063</th>\n",
       "      <td>ZWE</td>\n",
       "      <td>Africa</td>\n",
       "      <td>2022-10-09</td>\n",
       "      <td>Zimbabwe</td>\n",
       "      <td>257655.0</td>\n",
       "      <td>NaN</td>\n",
       "      <td>15993524.0</td>\n",
       "      <td>1899.775</td>\n",
       "      <td>0.571</td>\n",
       "    </tr>\n",
       "    <tr>\n",
       "      <th>223064</th>\n",
       "      <td>ZWE</td>\n",
       "      <td>Africa</td>\n",
       "      <td>2022-10-10</td>\n",
       "      <td>Zimbabwe</td>\n",
       "      <td>257749.0</td>\n",
       "      <td>NaN</td>\n",
       "      <td>15993524.0</td>\n",
       "      <td>1899.775</td>\n",
       "      <td>0.571</td>\n",
       "    </tr>\n",
       "    <tr>\n",
       "      <th>223065</th>\n",
       "      <td>ZWE</td>\n",
       "      <td>Africa</td>\n",
       "      <td>2022-10-11</td>\n",
       "      <td>Zimbabwe</td>\n",
       "      <td>257749.0</td>\n",
       "      <td>NaN</td>\n",
       "      <td>15993524.0</td>\n",
       "      <td>1899.775</td>\n",
       "      <td>0.571</td>\n",
       "    </tr>\n",
       "  </tbody>\n",
       "</table>\n",
       "<p>221764 rows × 9 columns</p>\n",
       "</div>"
      ],
      "text/plain": [
       "       iso_code continent        date     location  total_cases  \\\n",
       "0           AFG      Asia  2020-02-24  Afghanistan          5.0   \n",
       "1           AFG      Asia  2020-02-25  Afghanistan          5.0   \n",
       "2           AFG      Asia  2020-02-26  Afghanistan          5.0   \n",
       "3           AFG      Asia  2020-02-27  Afghanistan          5.0   \n",
       "4           AFG      Asia  2020-02-28  Afghanistan          5.0   \n",
       "...         ...       ...         ...          ...          ...   \n",
       "223061      ZWE    Africa  2022-10-07     Zimbabwe     257655.0   \n",
       "223062      ZWE    Africa  2022-10-08     Zimbabwe     257655.0   \n",
       "223063      ZWE    Africa  2022-10-09     Zimbabwe     257655.0   \n",
       "223064      ZWE    Africa  2022-10-10     Zimbabwe     257749.0   \n",
       "223065      ZWE    Africa  2022-10-11     Zimbabwe     257749.0   \n",
       "\n",
       "        stringency_index  population  gdp_per_capita  human_development_index  \n",
       "0                   8.33  40099462.0        1803.987                    0.511  \n",
       "1                   8.33  40099462.0        1803.987                    0.511  \n",
       "2                   8.33  40099462.0        1803.987                    0.511  \n",
       "3                   8.33  40099462.0        1803.987                    0.511  \n",
       "4                   8.33  40099462.0        1803.987                    0.511  \n",
       "...                  ...         ...             ...                      ...  \n",
       "223061               NaN  15993524.0        1899.775                    0.571  \n",
       "223062               NaN  15993524.0        1899.775                    0.571  \n",
       "223063               NaN  15993524.0        1899.775                    0.571  \n",
       "223064               NaN  15993524.0        1899.775                    0.571  \n",
       "223065               NaN  15993524.0        1899.775                    0.571  \n",
       "\n",
       "[221764 rows x 9 columns]"
      ]
     },
     "execution_count": 40,
     "metadata": {},
     "output_type": "execute_result"
    }
   ],
   "source": [
    "new_data"
   ]
  },
  {
   "cell_type": "code",
   "execution_count": 41,
   "id": "d57b6319",
   "metadata": {},
   "outputs": [],
   "source": [
    "L=[]\n",
    "new_data.drop(['continent'], axis=1)\n",
    "for e in new_data.iso_code:\n",
    "    L.append(list(DataFrame_continent[DataFrame_continent['iso_code'] == e]['continent'])[0])\n",
    "new_data['continent'] = L  "
   ]
  },
  {
   "cell_type": "code",
   "execution_count": 42,
   "id": "6fd48ddf",
   "metadata": {},
   "outputs": [],
   "source": [
    "# Pour les pays non reconnu du tout \n",
    "indexes_to_be_dropped = new_data[new_data['continent'].isnull()==True].index\n",
    "update_df = new_data.drop(list(indexes_to_be_dropped))\n"
   ]
  },
  {
   "cell_type": "code",
   "execution_count": 43,
   "id": "2acdc6ca",
   "metadata": {},
   "outputs": [
    {
     "data": {
      "text/plain": [
       "iso_code                   0.000000\n",
       "continent                  0.000000\n",
       "date                       0.000000\n",
       "location                   0.000000\n",
       "total_cases                0.042032\n",
       "stringency_index           0.199211\n",
       "population                 0.000000\n",
       "gdp_per_capita             0.134419\n",
       "human_development_index    0.155159\n",
       "dtype: float64"
      ]
     },
     "execution_count": 43,
     "metadata": {},
     "output_type": "execute_result"
    }
   ],
   "source": [
    "update_df.isnull().sum()/update_df.shape[0]"
   ]
  },
  {
   "cell_type": "code",
   "execution_count": 44,
   "id": "1b5501c8",
   "metadata": {},
   "outputs": [],
   "source": [
    "data_test = update_df.copy()"
   ]
  },
  {
   "cell_type": "code",
   "execution_count": 45,
   "id": "40a8afd2",
   "metadata": {},
   "outputs": [],
   "source": [
    "### Pour les colonnes total_cases, stringency_index, gdp, human_; utilisons l'interpolation pour remplir les valeurs manquantes\n",
    "data_test.interpolate(method ='linear', limit_direction ='backward', inplace=True)"
   ]
  },
  {
   "cell_type": "code",
   "execution_count": 46,
   "id": "3c50679b",
   "metadata": {},
   "outputs": [
    {
     "data": {
      "text/plain": [
       "iso_code                   0.000000\n",
       "continent                  0.000000\n",
       "date                       0.000000\n",
       "location                   0.000000\n",
       "total_cases                0.000000\n",
       "stringency_index           0.000043\n",
       "population                 0.000000\n",
       "gdp_per_capita             0.000000\n",
       "human_development_index    0.000000\n",
       "dtype: float64"
      ]
     },
     "execution_count": 46,
     "metadata": {},
     "output_type": "execute_result"
    }
   ],
   "source": [
    "data_test.interpolate(method ='linear', limit_direction ='backward', inplace=True)\n",
    "data_test.isnull().sum()/data_test.shape[0]"
   ]
  },
  {
   "cell_type": "markdown",
   "id": "1efeacbd",
   "metadata": {},
   "source": [
    "# merge data"
   ]
  },
  {
   "cell_type": "code",
   "execution_count": 47,
   "id": "5f5e9f5d",
   "metadata": {},
   "outputs": [
    {
     "name": "stdout",
     "output_type": "stream",
     "text": [
      "  iso_code continent_x        date     location  total_cases_x  \\\n",
      "0      AFG        Asia  2020-02-24  Afghanistan            5.0   \n",
      "1      AFG        Asia  2020-02-25  Afghanistan            5.0   \n",
      "2      AFG        Asia  2020-02-26  Afghanistan            5.0   \n",
      "3      AFG        Asia  2020-02-27  Afghanistan            5.0   \n",
      "4      AFG        Asia  2020-02-28  Afghanistan            5.0   \n",
      "5      AFG        Asia  2020-02-29  Afghanistan            5.0   \n",
      "6      AFG        Asia  2020-03-01  Afghanistan            5.0   \n",
      "7      AFG        Asia  2020-03-02  Afghanistan            5.0   \n",
      "8      AFG        Asia  2020-03-03  Afghanistan            5.0   \n",
      "9      AFG        Asia  2020-03-04  Afghanistan            5.0   \n",
      "\n",
      "   stringency_index_x  population_x  gdp_per_capita_x  \\\n",
      "0                8.33    40099462.0          1803.987   \n",
      "1                8.33    40099462.0          1803.987   \n",
      "2                8.33    40099462.0          1803.987   \n",
      "3                8.33    40099462.0          1803.987   \n",
      "4                8.33    40099462.0          1803.987   \n",
      "5                8.33    40099462.0          1803.987   \n",
      "6               27.78    40099462.0          1803.987   \n",
      "7               27.78    40099462.0          1803.987   \n",
      "8               27.78    40099462.0          1803.987   \n",
      "9               27.78    40099462.0          1803.987   \n",
      "\n",
      "   human_development_index_x continent_y  total_cases_y  stringency_index_y  \\\n",
      "0                      0.511        Asia            5.0                8.33   \n",
      "1                      0.511        Asia            5.0                8.33   \n",
      "2                      0.511        Asia            5.0                8.33   \n",
      "3                      0.511        Asia            5.0                8.33   \n",
      "4                      0.511        Asia            5.0                8.33   \n",
      "5                      0.511        Asia            5.0                8.33   \n",
      "6                      0.511        Asia            5.0               27.78   \n",
      "7                      0.511        Asia            5.0               27.78   \n",
      "8                      0.511        Asia            5.0               27.78   \n",
      "9                      0.511        Asia            5.0               27.78   \n",
      "\n",
      "   population_y  gdp_per_capita_y  human_development_index_y  \n",
      "0    40099462.0          1803.987                      0.511  \n",
      "1    40099462.0          1803.987                      0.511  \n",
      "2    40099462.0          1803.987                      0.511  \n",
      "3    40099462.0          1803.987                      0.511  \n",
      "4    40099462.0          1803.987                      0.511  \n",
      "5    40099462.0          1803.987                      0.511  \n",
      "6    40099462.0          1803.987                      0.511  \n",
      "7    40099462.0          1803.987                      0.511  \n",
      "8    40099462.0          1803.987                      0.511  \n",
      "9    40099462.0          1803.987                      0.511  \n"
     ]
    }
   ],
   "source": [
    "data_merged=pd.merge(data_test ,data, how=\"outer\", on=['iso_code','date', 'location'])\n",
    "print(data_merged.head(10))"
   ]
  },
  {
   "cell_type": "code",
   "execution_count": 48,
   "id": "238e3da3",
   "metadata": {},
   "outputs": [],
   "source": [
    "#merging total_cases columns from data1 and data2 by calculating mean\n",
    "#removing initial columns\n",
    "data_merged['total_cases_mean']=data_merged[['total_cases_x','total_cases_y']].mean(axis = 1)\n",
    "data_merged.drop(['total_cases_x','total_cases_y'],axis=1, inplace=True)"
   ]
  },
  {
   "cell_type": "code",
   "execution_count": 49,
   "id": "3aec79d8",
   "metadata": {},
   "outputs": [],
   "source": [
    "#same with sti\n",
    "data_merged['stringency_index_mean']=data_merged[['stringency_index_x','stringency_index_y']].mean(axis = 1)\n",
    "data_merged.drop(['stringency_index_x','stringency_index_y'],axis=1, inplace=True)"
   ]
  },
  {
   "cell_type": "code",
   "execution_count": 50,
   "id": "fb7eaebe",
   "metadata": {},
   "outputs": [],
   "source": [
    "# same with gdp\n",
    "\n",
    "data_merged['gdp_per_capita_mean']=data_merged[['gdp_per_capita_x','gdp_per_capita_y']].mean(axis = 1)\n",
    "data_merged.drop(['gdp_per_capita_x','gdp_per_capita_y'],axis=1, inplace=True)"
   ]
  },
  {
   "cell_type": "code",
   "execution_count": 51,
   "id": "23fc8b2b",
   "metadata": {},
   "outputs": [],
   "source": [
    "# same with pop\n",
    "\n",
    "data_merged['population_mean']=data_merged[['population_x','population_y']].mean(axis = 1)\n",
    "data_merged.drop(['population_x','population_y'],axis=1, inplace=True)"
   ]
  },
  {
   "cell_type": "code",
   "execution_count": 52,
   "id": "58904320",
   "metadata": {},
   "outputs": [],
   "source": [
    "# same with HDI\n",
    "\n",
    "data_merged['human_development_index_mean']=data_merged[['human_development_index_x','human_development_index_y']].mean(axis = 1)\n",
    "data_merged.drop(['human_development_index_x','human_development_index_y'],axis=1, inplace=True)"
   ]
  },
  {
   "cell_type": "code",
   "execution_count": 53,
   "id": "34813b80",
   "metadata": {},
   "outputs": [],
   "source": [
    "import plotly.express as px\n",
    "import plotly.graph_objects as go\n",
    "import seaborn\n",
    "import plotly\n",
    "\n",
    "seaborn.set_context('talk')\n"
   ]
  },
  {
   "cell_type": "code",
   "execution_count": 54,
   "id": "10d6f931",
   "metadata": {},
   "outputs": [],
   "source": [
    "simple_data_gdp=data_merged[['date','gdp_per_capita_mean']].copy()\n",
    "simple_data_sti=data_merged[['date','stringency_index_mean']].copy()\n",
    "simple_data_total_cases=data_merged[['date','total_cases_mean']].copy()\n",
    "\n",
    "distinct=simple_data_gdp.date.unique()\n",
    "simple_data=pd.DataFrame(index=distinct)\n",
    "# simple_data['date']=distinct\n",
    "simple_data['gdp']=simple_data_gdp.groupby(['date']).mean()\n",
    "simple_data['sti']=simple_data_sti.groupby(['date']).mean()\n",
    "simple_data['total_cases']=simple_data_total_cases.groupby(['date']).mean()\n",
    "\n",
    "simple_data.sort_index(inplace=True)"
   ]
  },
  {
   "cell_type": "code",
   "execution_count": 55,
   "id": "a6c6265d-e024-4c7b-bc97-32c9ae096264",
   "metadata": {},
   "outputs": [
    {
     "data": {
      "text/html": [
       "<div>\n",
       "<style scoped>\n",
       "    .dataframe tbody tr th:only-of-type {\n",
       "        vertical-align: middle;\n",
       "    }\n",
       "\n",
       "    .dataframe tbody tr th {\n",
       "        vertical-align: top;\n",
       "    }\n",
       "\n",
       "    .dataframe thead th {\n",
       "        text-align: right;\n",
       "    }\n",
       "</style>\n",
       "<table border=\"1\" class=\"dataframe\">\n",
       "  <thead>\n",
       "    <tr style=\"text-align: right;\">\n",
       "      <th></th>\n",
       "      <th>index</th>\n",
       "      <th>gdp</th>\n",
       "      <th>sti</th>\n",
       "      <th>total_cases</th>\n",
       "    </tr>\n",
       "  </thead>\n",
       "  <tbody>\n",
       "    <tr>\n",
       "      <th>0</th>\n",
       "      <td>2020-01-01</td>\n",
       "      <td>18135.188000</td>\n",
       "      <td>2.239887</td>\n",
       "      <td>1.338350e+05</td>\n",
       "    </tr>\n",
       "    <tr>\n",
       "      <th>1</th>\n",
       "      <td>2020-01-02</td>\n",
       "      <td>18135.188000</td>\n",
       "      <td>2.133226</td>\n",
       "      <td>1.315325e+05</td>\n",
       "    </tr>\n",
       "    <tr>\n",
       "      <th>2</th>\n",
       "      <td>2020-01-03</td>\n",
       "      <td>18135.188000</td>\n",
       "      <td>2.026565</td>\n",
       "      <td>1.292300e+05</td>\n",
       "    </tr>\n",
       "    <tr>\n",
       "      <th>3</th>\n",
       "      <td>2020-01-04</td>\n",
       "      <td>17516.015667</td>\n",
       "      <td>3.279136</td>\n",
       "      <td>9.709618e+04</td>\n",
       "    </tr>\n",
       "    <tr>\n",
       "      <th>4</th>\n",
       "      <td>2020-01-05</td>\n",
       "      <td>17516.015667</td>\n",
       "      <td>3.096961</td>\n",
       "      <td>9.486804e+04</td>\n",
       "    </tr>\n",
       "    <tr>\n",
       "      <th>...</th>\n",
       "      <td>...</td>\n",
       "      <td>...</td>\n",
       "      <td>...</td>\n",
       "      <td>...</td>\n",
       "    </tr>\n",
       "    <tr>\n",
       "      <th>1010</th>\n",
       "      <td>2022-10-07</td>\n",
       "      <td>18994.131982</td>\n",
       "      <td>20.405260</td>\n",
       "      <td>1.148579e+07</td>\n",
       "    </tr>\n",
       "    <tr>\n",
       "      <th>1011</th>\n",
       "      <td>2022-10-08</td>\n",
       "      <td>18994.326897</td>\n",
       "      <td>20.310887</td>\n",
       "      <td>1.148984e+07</td>\n",
       "    </tr>\n",
       "    <tr>\n",
       "      <th>1012</th>\n",
       "      <td>2022-10-09</td>\n",
       "      <td>18994.521812</td>\n",
       "      <td>20.216515</td>\n",
       "      <td>1.149383e+07</td>\n",
       "    </tr>\n",
       "    <tr>\n",
       "      <th>1013</th>\n",
       "      <td>2022-10-10</td>\n",
       "      <td>18994.716727</td>\n",
       "      <td>20.122143</td>\n",
       "      <td>1.150396e+07</td>\n",
       "    </tr>\n",
       "    <tr>\n",
       "      <th>1014</th>\n",
       "      <td>2022-10-11</td>\n",
       "      <td>18994.911641</td>\n",
       "      <td>20.027771</td>\n",
       "      <td>1.151677e+07</td>\n",
       "    </tr>\n",
       "  </tbody>\n",
       "</table>\n",
       "<p>1015 rows × 4 columns</p>\n",
       "</div>"
      ],
      "text/plain": [
       "           index           gdp        sti   total_cases\n",
       "0     2020-01-01  18135.188000   2.239887  1.338350e+05\n",
       "1     2020-01-02  18135.188000   2.133226  1.315325e+05\n",
       "2     2020-01-03  18135.188000   2.026565  1.292300e+05\n",
       "3     2020-01-04  17516.015667   3.279136  9.709618e+04\n",
       "4     2020-01-05  17516.015667   3.096961  9.486804e+04\n",
       "...          ...           ...        ...           ...\n",
       "1010  2022-10-07  18994.131982  20.405260  1.148579e+07\n",
       "1011  2022-10-08  18994.326897  20.310887  1.148984e+07\n",
       "1012  2022-10-09  18994.521812  20.216515  1.149383e+07\n",
       "1013  2022-10-10  18994.716727  20.122143  1.150396e+07\n",
       "1014  2022-10-11  18994.911641  20.027771  1.151677e+07\n",
       "\n",
       "[1015 rows x 4 columns]"
      ]
     },
     "execution_count": 55,
     "metadata": {},
     "output_type": "execute_result"
    }
   ],
   "source": [
    "simple_data.reset_index()"
   ]
  },
  {
   "cell_type": "code",
   "execution_count": 56,
   "id": "97f37f24",
   "metadata": {},
   "outputs": [],
   "source": [
    "date = list(simple_data['gdp'].index)"
   ]
  },
  {
   "cell_type": "markdown",
   "id": "990dc738",
   "metadata": {},
   "source": [
    "# Partie : Machine Learning\n",
    "Le but de cette partie est de prédire en quelque sorte comment varie le PIB(Produit Intérieur Brut) en fonction de la situation Covid 19, liée principalement aux deux features suivants;\n",
    "total_cases: nombre total de cas covid-positif\n",
    "sti: stringency_index"
   ]
  },
  {
   "cell_type": "raw",
   "id": "da31e234",
   "metadata": {},
   "source": [
    "Mais avant de commencer, sachant que la base de données utilisée dans cette partie est déjà nettoyée, on procédera par l'étape de normalisation de données afin de mieux entrainner notre modèle"
   ]
  },
  {
   "cell_type": "markdown",
   "id": "af10cc26",
   "metadata": {},
   "source": [
    "### Normalisation : StandardScaler"
   ]
  },
  {
   "cell_type": "code",
   "execution_count": 57,
   "id": "b206bff3",
   "metadata": {},
   "outputs": [],
   "source": [
    "from sklearn.preprocessing import StandardScaler"
   ]
  },
  {
   "cell_type": "code",
   "execution_count": 58,
   "id": "dffce73a",
   "metadata": {},
   "outputs": [],
   "source": [
    "data_stdscl = StandardScaler().fit_transform(simple_data)"
   ]
  },
  {
   "cell_type": "code",
   "execution_count": 59,
   "id": "be364113",
   "metadata": {},
   "outputs": [],
   "source": [
    "df = pd.DataFrame(data_stdscl, columns = ['gdp', 'sti', 'total_cases'])"
   ]
  },
  {
   "cell_type": "code",
   "execution_count": 60,
   "id": "ef6360b7",
   "metadata": {},
   "outputs": [],
   "source": [
    "df['date'] = date"
   ]
  },
  {
   "cell_type": "code",
   "execution_count": 61,
   "id": "5ccbfbf8",
   "metadata": {},
   "outputs": [
    {
     "data": {
      "text/html": [
       "<div>\n",
       "<style scoped>\n",
       "    .dataframe tbody tr th:only-of-type {\n",
       "        vertical-align: middle;\n",
       "    }\n",
       "\n",
       "    .dataframe tbody tr th {\n",
       "        vertical-align: top;\n",
       "    }\n",
       "\n",
       "    .dataframe thead th {\n",
       "        text-align: right;\n",
       "    }\n",
       "</style>\n",
       "<table border=\"1\" class=\"dataframe\">\n",
       "  <thead>\n",
       "    <tr style=\"text-align: right;\">\n",
       "      <th></th>\n",
       "      <th>gdp</th>\n",
       "      <th>sti</th>\n",
       "      <th>total_cases</th>\n",
       "      <th>date</th>\n",
       "    </tr>\n",
       "  </thead>\n",
       "  <tbody>\n",
       "    <tr>\n",
       "      <th>0</th>\n",
       "      <td>-0.657625</td>\n",
       "      <td>-2.685587</td>\n",
       "      <td>-1.111672</td>\n",
       "      <td>2020-01-01</td>\n",
       "    </tr>\n",
       "    <tr>\n",
       "      <th>1</th>\n",
       "      <td>-0.657625</td>\n",
       "      <td>-2.692955</td>\n",
       "      <td>-1.112320</td>\n",
       "      <td>2020-01-02</td>\n",
       "    </tr>\n",
       "    <tr>\n",
       "      <th>2</th>\n",
       "      <td>-0.657625</td>\n",
       "      <td>-2.700323</td>\n",
       "      <td>-1.112967</td>\n",
       "      <td>2020-01-03</td>\n",
       "    </tr>\n",
       "    <tr>\n",
       "      <th>3</th>\n",
       "      <td>-0.884133</td>\n",
       "      <td>-2.613800</td>\n",
       "      <td>-1.122002</td>\n",
       "      <td>2020-01-04</td>\n",
       "    </tr>\n",
       "    <tr>\n",
       "      <th>4</th>\n",
       "      <td>-0.884133</td>\n",
       "      <td>-2.626384</td>\n",
       "      <td>-1.122628</td>\n",
       "      <td>2020-01-05</td>\n",
       "    </tr>\n",
       "    <tr>\n",
       "      <th>...</th>\n",
       "      <td>...</td>\n",
       "      <td>...</td>\n",
       "      <td>...</td>\n",
       "      <td>...</td>\n",
       "    </tr>\n",
       "    <tr>\n",
       "      <th>1010</th>\n",
       "      <td>-0.343403</td>\n",
       "      <td>-1.430787</td>\n",
       "      <td>2.080065</td>\n",
       "      <td>2022-10-07</td>\n",
       "    </tr>\n",
       "    <tr>\n",
       "      <th>1011</th>\n",
       "      <td>-0.343332</td>\n",
       "      <td>-1.437306</td>\n",
       "      <td>2.081206</td>\n",
       "      <td>2022-10-08</td>\n",
       "    </tr>\n",
       "    <tr>\n",
       "      <th>1012</th>\n",
       "      <td>-0.343261</td>\n",
       "      <td>-1.443824</td>\n",
       "      <td>2.082328</td>\n",
       "      <td>2022-10-09</td>\n",
       "    </tr>\n",
       "    <tr>\n",
       "      <th>1013</th>\n",
       "      <td>-0.343190</td>\n",
       "      <td>-1.450343</td>\n",
       "      <td>2.085176</td>\n",
       "      <td>2022-10-10</td>\n",
       "    </tr>\n",
       "    <tr>\n",
       "      <th>1014</th>\n",
       "      <td>-0.343118</td>\n",
       "      <td>-1.456862</td>\n",
       "      <td>2.088776</td>\n",
       "      <td>2022-10-11</td>\n",
       "    </tr>\n",
       "  </tbody>\n",
       "</table>\n",
       "<p>1015 rows × 4 columns</p>\n",
       "</div>"
      ],
      "text/plain": [
       "           gdp       sti  total_cases        date\n",
       "0    -0.657625 -2.685587    -1.111672  2020-01-01\n",
       "1    -0.657625 -2.692955    -1.112320  2020-01-02\n",
       "2    -0.657625 -2.700323    -1.112967  2020-01-03\n",
       "3    -0.884133 -2.613800    -1.122002  2020-01-04\n",
       "4    -0.884133 -2.626384    -1.122628  2020-01-05\n",
       "...        ...       ...          ...         ...\n",
       "1010 -0.343403 -1.430787     2.080065  2022-10-07\n",
       "1011 -0.343332 -1.437306     2.081206  2022-10-08\n",
       "1012 -0.343261 -1.443824     2.082328  2022-10-09\n",
       "1013 -0.343190 -1.450343     2.085176  2022-10-10\n",
       "1014 -0.343118 -1.456862     2.088776  2022-10-11\n",
       "\n",
       "[1015 rows x 4 columns]"
      ]
     },
     "execution_count": 61,
     "metadata": {},
     "output_type": "execute_result"
    }
   ],
   "source": [
    "df"
   ]
  },
  {
   "cell_type": "markdown",
   "id": "45b67407",
   "metadata": {},
   "source": [
    "## Modèle Machine Learning"
   ]
  },
  {
   "cell_type": "markdown",
   "id": "ced14a93",
   "metadata": {},
   "source": [
    "## Récupération des données"
   ]
  },
  {
   "cell_type": "code",
   "execution_count": 62,
   "id": "653cf6d9",
   "metadata": {},
   "outputs": [],
   "source": [
    "X = df[['sti','total_cases']]\n",
    "y = df['gdp']"
   ]
  },
  {
   "cell_type": "code",
   "execution_count": 63,
   "id": "8c97ce66",
   "metadata": {},
   "outputs": [],
   "source": [
    "X = df[['sti','total_cases']].values.tolist()\n",
    "y = df['gdp'].values.tolist()"
   ]
  },
  {
   "cell_type": "code",
   "execution_count": 64,
   "id": "bc94aca6",
   "metadata": {},
   "outputs": [],
   "source": [
    "X = numpy.array(X)\n",
    "y = numpy.array(y)"
   ]
  },
  {
   "cell_type": "markdown",
   "id": "4ad689ec",
   "metadata": {},
   "source": [
    "## Train and Test split : Diviser notre DataSet en deux parties (TraiSet, TestSet)"
   ]
  },
  {
   "cell_type": "code",
   "execution_count": 65,
   "id": "2266083e",
   "metadata": {},
   "outputs": [],
   "source": [
    "from sklearn.model_selection import train_test_split"
   ]
  },
  {
   "cell_type": "code",
   "execution_count": 66,
   "id": "05275983",
   "metadata": {},
   "outputs": [
    {
     "name": "stdout",
     "output_type": "stream",
     "text": [
      "Train set: (812, 2)\n",
      "Test set: (203, 2)\n"
     ]
    }
   ],
   "source": [
    "X_train, X_test, y_train, y_test = train_test_split(X, y, test_size=0.2, random_state=5)\n",
    "\n",
    "print('Train set:', X_train.shape)\n",
    "print('Test set:', X_test.shape)"
   ]
  },
  {
   "cell_type": "code",
   "execution_count": 67,
   "id": "642fa15c",
   "metadata": {},
   "outputs": [
    {
     "data": {
      "text/plain": [
       "<matplotlib.collections.PathCollection at 0x275fb0fe220>"
      ]
     },
     "execution_count": 67,
     "metadata": {},
     "output_type": "execute_result"
    },
    {
     "data": {
      "image/png": "[encoded data removed]",
      "text/plain": [
       "<Figure size 432x288 with 1 Axes>"
      ]
     },
     "metadata": {
      "needs_background": "light"
     },
     "output_type": "display_data"
    }
   ],
   "source": [
    "plt.scatter(X_train[:,1],X_train[:,0], c = y_train)"
   ]
  },
  {
   "cell_type": "code",
   "execution_count": 68,
   "id": "512acb72",
   "metadata": {},
   "outputs": [],
   "source": [
    "from sklearn.svm import SVR"
   ]
  },
  {
   "cell_type": "code",
   "execution_count": 69,
   "id": "6d48dc8d",
   "metadata": {},
   "outputs": [],
   "source": [
    "model = SVR(C=1.0, epsilon=0.2)"
   ]
  },
  {
   "cell_type": "code",
   "execution_count": 70,
   "id": "e1a4f37b",
   "metadata": {},
   "outputs": [
    {
     "data": {
      "text/plain": [
       "SVR(epsilon=0.2)"
      ]
     },
     "execution_count": 70,
     "metadata": {},
     "output_type": "execute_result"
    }
   ],
   "source": [
    "model.fit(X_train, y_train)"
   ]
  },
  {
   "cell_type": "code",
   "execution_count": 71,
   "id": "4bdd37fb",
   "metadata": {},
   "outputs": [],
   "source": [
    "y_pred = model.predict(X_test)"
   ]
  },
  {
   "cell_type": "markdown",
   "id": "04b28bcf",
   "metadata": {},
   "source": [
    "### Model Score"
   ]
  },
  {
   "cell_type": "code",
   "execution_count": 72,
   "id": "4a5931cd",
   "metadata": {},
   "outputs": [
    {
     "data": {
      "text/plain": [
       "0.8644072943461523"
      ]
     },
     "execution_count": 72,
     "metadata": {},
     "output_type": "execute_result"
    }
   ],
   "source": [
    "model.score(X_test,y_test)"
   ]
  },
  {
   "cell_type": "code",
   "execution_count": 75,
   "id": "68879963",
   "metadata": {},
   "outputs": [
    {
     "data": {
      "text/plain": [
       "(203,)"
      ]
     },
     "execution_count": 75,
     "metadata": {},
     "output_type": "execute_result"
    }
   ],
   "source": [
    "y_test.shape"
   ]
  },
  {
   "cell_type": "code",
   "execution_count": 76,
   "id": "65284539",
   "metadata": {},
   "outputs": [
    {
     "data": {
      "text/plain": [
       "(203,)"
      ]
     },
     "execution_count": 76,
     "metadata": {},
     "output_type": "execute_result"
    }
   ],
   "source": [
    "y_pred.shape"
   ]
  },
  {
   "cell_type": "markdown",
   "id": "bf621c9f",
   "metadata": {},
   "source": [
    "### GridSearch : Pour trouver les paramètres optimales de notre modèle"
   ]
  },
  {
   "cell_type": "code",
   "execution_count": 80,
   "id": "ee76336e",
   "metadata": {},
   "outputs": [],
   "source": [
    "from sklearn.model_selection import GridSearchCV"
   ]
  },
  {
   "cell_type": "code",
   "execution_count": 81,
   "id": "50667c88",
   "metadata": {},
   "outputs": [],
   "source": [
    "param = {'kernel' : ('linear', 'poly', 'rbf', 'sigmoid'),'coef0' : [0.01,10,0.5],'gamma' : ('auto','scale')},\n",
    "grids = GridSearchCV(SVR(),param,cv=4)"
   ]
  },
  {
   "cell_type": "code",
   "execution_count": 82,
   "id": "ad278b28",
   "metadata": {},
   "outputs": [
    {
     "data": {
      "text/plain": [
       "GridSearchCV(cv=4, estimator=SVR(),\n",
       "             param_grid=({'coef0': [0.01, 10, 0.5], 'gamma': ('auto', 'scale'),\n",
       "                          'kernel': ('linear', 'poly', 'rbf', 'sigmoid')},))"
      ]
     },
     "execution_count": 82,
     "metadata": {},
     "output_type": "execute_result"
    }
   ],
   "source": [
    "grids.fit(X_train,y_train)"
   ]
  },
  {
   "cell_type": "code",
   "execution_count": 84,
   "id": "4c3baedf",
   "metadata": {},
   "outputs": [
    {
     "data": {
      "text/plain": [
       "0.878704633630403"
      ]
     },
     "execution_count": 84,
     "metadata": {},
     "output_type": "execute_result"
    }
   ],
   "source": [
    "grids.score(X_test, y_test)"
   ]
  },
  {
   "cell_type": "code",
   "execution_count": null,
   "id": "a3fd3384",
   "metadata": {},
   "outputs": [],
   "source": []
  }
 ],
 "metadata": {
  "kernelspec": {
   "display_name": "Python 3",
   "language": "python",
   "name": "python3"
  },
  "language_info": {
   "codemirror_mode": {
    "name": "ipython",
    "version": 3
   },
   "file_extension": ".py",
   "mimetype": "text/x-python",
   "name": "python",
   "nbconvert_exporter": "python",
   "pygments_lexer": "ipython3",
   "version": "3.8.8"
  }
 },
 "nbformat": 4,
 "nbformat_minor": 5
}
